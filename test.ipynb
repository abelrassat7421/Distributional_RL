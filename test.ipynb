{
 "cells": [
  {
   "cell_type": "code",
   "execution_count": 1,
   "metadata": {},
   "outputs": [],
   "source": [
    "import numpy as np\n",
    "import torch"
   ]
  },
  {
   "cell_type": "code",
   "execution_count": 2,
   "metadata": {},
   "outputs": [],
   "source": [
    "import gym"
   ]
  },
  {
   "cell_type": "code",
   "execution_count": null,
   "metadata": {},
   "outputs": [],
   "source": []
  },
  {
   "cell_type": "code",
   "execution_count": null,
   "metadata": {},
   "outputs": [],
   "source": []
  },
  {
   "cell_type": "code",
   "execution_count": 4,
   "metadata": {},
   "outputs": [],
   "source": [
    "B, n_act, n_atoms = 8, 2, 4"
   ]
  },
  {
   "cell_type": "code",
   "execution_count": 22,
   "metadata": {},
   "outputs": [
    {
     "data": {
      "text/plain": [
       "torch.float32"
      ]
     },
     "execution_count": 22,
     "metadata": {},
     "output_type": "execute_result"
    }
   ],
   "source": [
    "action_prob = torch.randn(B, n_act, n_atoms)\n",
    "action_prob = action_prob.to(dtype=torch.float32)\n",
    "action_prob.dtype"
   ]
  },
  {
   "cell_type": "code",
   "execution_count": null,
   "metadata": {},
   "outputs": [],
   "source": []
  },
  {
   "cell_type": "code",
   "execution_count": 23,
   "metadata": {},
   "outputs": [
    {
     "data": {
      "text/plain": [
       "torch.float32"
      ]
     },
     "execution_count": 23,
     "metadata": {},
     "output_type": "execute_result"
    }
   ],
   "source": [
    "categorical_Vmin = -1\n",
    "categorical_Vmax = +1\n",
    "categorical_n_atoms = n_atoms\n",
    "\n",
    "atoms = np.linspace(\n",
    "        categorical_Vmin,\n",
    "        categorical_Vmax,\n",
    "        categorical_n_atoms,\n",
    "    )  # Z\n",
    "\n",
    "atoms = torch.tensor(atoms)\n",
    "atoms = atoms.to(dtype=torch.float32)\n",
    "atoms.dtype"
   ]
  },
  {
   "cell_type": "code",
   "execution_count": 24,
   "metadata": {},
   "outputs": [
    {
     "data": {
      "text/plain": [
       "torch.float32"
      ]
     },
     "execution_count": 24,
     "metadata": {},
     "output_type": "execute_result"
    }
   ],
   "source": [
    "atoms.dtype"
   ]
  },
  {
   "cell_type": "code",
   "execution_count": 32,
   "metadata": {},
   "outputs": [
    {
     "name": "stdout",
     "output_type": "stream",
     "text": [
      "torch.Size([8, 2, 4])\n",
      "torch.Size([4])\n"
     ]
    }
   ],
   "source": [
    "print(action_prob.shape)\n",
    "print(atoms.shape)"
   ]
  },
  {
   "cell_type": "code",
   "execution_count": 39,
   "metadata": {},
   "outputs": [
    {
     "data": {
      "text/plain": [
       "tensor([[-0.8630, -0.6759],\n",
       "        [-0.0263, -0.8739],\n",
       "        [ 0.3502,  3.4721],\n",
       "        [ 1.0632,  1.6932],\n",
       "        [-0.7237,  1.2273],\n",
       "        [ 1.7661, -1.4455],\n",
       "        [ 1.4616,  1.4413],\n",
       "        [ 1.4367, -1.4427]])"
      ]
     },
     "execution_count": 39,
     "metadata": {},
     "output_type": "execute_result"
    }
   ],
   "source": [
    "torch.sum(action_prob * atoms.reshape(1,1,-1), dim=-1)"
   ]
  },
  {
   "cell_type": "code",
   "execution_count": 43,
   "metadata": {},
   "outputs": [
    {
     "data": {
      "text/plain": [
       "False"
      ]
     },
     "execution_count": 43,
     "metadata": {},
     "output_type": "execute_result"
    }
   ],
   "source": [
    "torch.allclose(torch.tensordot(action_prob, atoms, dims=1), torch.sum(action_prob * atoms.reshape(1,1,-1), dim=-1))"
   ]
  },
  {
   "cell_type": "code",
   "execution_count": 40,
   "metadata": {},
   "outputs": [
    {
     "data": {
      "text/plain": [
       "tensor([[-0.8630, -0.6759],\n",
       "        [-0.0263, -0.8739],\n",
       "        [ 0.3502,  3.4721],\n",
       "        [ 1.0632,  1.6932],\n",
       "        [-0.7237,  1.2273],\n",
       "        [ 1.7661, -1.4455],\n",
       "        [ 1.4616,  1.4413],\n",
       "        [ 1.4367, -1.4427]])"
      ]
     },
     "execution_count": 40,
     "metadata": {},
     "output_type": "execute_result"
    }
   ],
   "source": [
    "torch.tensordot(action_prob, atoms, dims=1)"
   ]
  },
  {
   "cell_type": "code",
   "execution_count": 1,
   "metadata": {},
   "outputs": [
    {
     "ename": "NameError",
     "evalue": "name 'torch' is not defined",
     "output_type": "error",
     "traceback": [
      "\u001b[0;31m---------------------------------------------------------------------------\u001b[0m",
      "\u001b[0;31mNameError\u001b[0m                                 Traceback (most recent call last)",
      "Cell \u001b[0;32mIn[1], line 1\u001b[0m\n\u001b[0;32m----> 1\u001b[0m \u001b[43mtorch\u001b[49m\u001b[38;5;241m.\u001b[39mtensordot(action_prob, atoms, dims\u001b[38;5;241m=\u001b[39m\u001b[38;5;241m1\u001b[39m)\u001b[38;5;241m.\u001b[39mshape\n",
      "\u001b[0;31mNameError\u001b[0m: name 'torch' is not defined"
     ]
    }
   ],
   "source": [
    "torch.tensordot(action_prob, atoms, dims=1).shape"
   ]
  },
  {
   "cell_type": "code",
   "execution_count": 5,
   "metadata": {},
   "outputs": [],
   "source": [
    "from src.utils.config import Config\n",
    "from src.agent.DQN import DQNAgent\n",
    "from src.agent.CategoricalDQN import CategoricalDQNAgent\n",
    "\n",
    "import gym"
   ]
  },
  {
   "cell_type": "code",
   "execution_count": 6,
   "metadata": {},
   "outputs": [],
   "source": [
    "import torch\n",
    "import torch.nn as nn\n",
    "import torch.nn.functional as F\n",
    "import numpy as np"
   ]
  },
  {
   "cell_type": "code",
   "execution_count": null,
   "metadata": {},
   "outputs": [],
   "source": []
  },
  {
   "cell_type": "code",
   "execution_count": 1,
   "metadata": {},
   "outputs": [],
   "source": [
    "game = 'CartPole-v1'"
   ]
  },
  {
   "cell_type": "code",
   "execution_count": 3,
   "metadata": {},
   "outputs": [],
   "source": [
    "env = gym.make(game, render_mode=None)\n",
    "C = Config(env)\n",
    "dqn_agent = CategoricalDQNAgent(config=C)\n",
    "dqn_agent.env = env\n",
    "\n",
    "# dqn_agent.transition()\n",
    "# print(\"finish training\")\n",
    "# print('=' * 64)\n",
    "# print(\"evaluating.....\")\n",
    "# dqn_agent.eval_step(render=True)"
   ]
  },
  {
   "cell_type": "code",
   "execution_count": 8,
   "metadata": {},
   "outputs": [],
   "source": [
    "config = C\n",
    "\n",
    "config = config\n",
    "input_dim = config.input_dim\n",
    "action_dim = config.action_dim\n",
    "num_atoms = config.categorical_n_atoms\n",
    "output_dim = action_dim * num_atoms\n",
    "\n",
    "atoms = torch.linspace(\n",
    "    float(config.categorical_Vmin),\n",
    "    float(config.categorical_Vmax),\n",
    "    config.categorical_n_atoms,\n",
    ")  # Z\n",
    "\n",
    "layer1 = nn.Linear(input_dim, 48)\n",
    "layer2 = nn.Linear(48, output_dim)\n",
    "reshape_layer = lambda x: x.view(-1, action_dim, num_atoms)  # Lambda layer for reshaping"
   ]
  },
  {
   "cell_type": "code",
   "execution_count": null,
   "metadata": {},
   "outputs": [],
   "source": []
  },
  {
   "cell_type": "code",
   "execution_count": null,
   "metadata": {},
   "outputs": [],
   "source": [
    "x = torch.randn()\n",
    "\n",
    "x = F.relu(layer1(x))\n",
    "x = layer2(x)\n",
    "x = reshape_layer(x)\n",
    "x = F.softmax(x, dim=-1)\n",
    "\n",
    "action_values = torch.tensordot(x, atoms, dims=1)\n",
    "print(\"DEBUG: ###: Action values in NN evolution --:\", action_values[0])\n",
    "# Create an index of the max action value in each batch\n",
    "idx = torch.argmax(action_values, dim=1).to(torch.int64)\n",
    "idx = idx.view(x.shape[0], 1, 1).expand(-1, -1, num_atoms)\n",
    "\n",
    "# Adjust the index to: [[0, 1], [1, 0], [2, 1], [3, 1], etc.]\n",
    "# First number is row (batch) number, second number is the argmax index\n",
    "\n",
    "#idx = torch.stack((torch.arange(x.shape[0]), idx), dim=1)\n",
    "#print(\"DEBUG 5: new idx.shape, idx\", idx.shape, idx)\n",
    "#print(\"Max index:\", idx.max().item())  # Should be 0 or 1 based on x's shape [128, 2, 50]\n",
    "#print(\"DEBUG 6: x\", x)\n",
    "#print(\"DEBUG: 4: action_values.shape, idx.shape, x.shape:\", action_values.shape, (idx.unsqueeze(-1)).shape, x.shape)\n",
    "# Gather probability histogram for actions with max action values\n",
    "actorNet_output_argmax = torch.gather(x, dim=1, index=idx).squeeze(1)"
   ]
  },
  {
   "cell_type": "code",
   "execution_count": null,
   "metadata": {},
   "outputs": [],
   "source": []
  },
  {
   "cell_type": "code",
   "execution_count": 45,
   "metadata": {},
   "outputs": [],
   "source": [
    "# Categorical Test\n",
    "\n",
    "import torch\n",
    "import torch.nn as nn\n",
    "import torch.nn.functional as F\n",
    "import numpy as np"
   ]
  },
  {
   "cell_type": "code",
   "execution_count": null,
   "metadata": {},
   "outputs": [],
   "source": [
    "\n",
    "\n",
    "class CategoricalDQNNet(nn.Module):\n",
    "\n",
    "    def __init__(self, config):\n",
    "        super(CategoricalDQNNet, self).__init__()\n",
    "        # TODO subsume the n_observations and n_actions to the config\n",
    "        self.config = config\n",
    "        self.input_dim = config.input_dim\n",
    "        self.action_dim = config.action_dim\n",
    "        self.num_atoms = config.categorical_n_atoms\n",
    "        output_dim = self.action_dim * self.num_atoms\n",
    "\n",
    "        self.atoms = torch.linspace(\n",
    "            float(config.categorical_Vmin),\n",
    "            float(config.categorical_Vmax),\n",
    "            config.categorical_n_atoms,\n",
    "        )  # Z\n",
    "\n",
    "        self.layer1 = nn.Linear(self.input_dim, 48)\n",
    "        self.layer2 = nn.Linear(48, output_dim)\n",
    "        self.reshape_layer = lambda x: x.view(-1, self.action_dim, self.num_atoms)  # Lambda layer for reshaping\n",
    "\n",
    "    # Called with either one element to determine next action, or a batch\n",
    "    # during optimization. Returns tensor([[left0exp,right0exp]...]).\n",
    "    def forward(self, x):\n",
    "        x = F.relu(self.layer1(x))\n",
    "        x = self.layer2(x)\n",
    "        x = self.reshape_layer(x)\n",
    "        x = F.softmax(x, dim=-1)\n",
    "\n",
    "        action_values = torch.tensordot(x, self.atoms, dims=1)\n",
    "        print(\"DEBUG: ###: Action values in NN evolution --:\", action_values[0])\n",
    "        # Create an index of the max action value in each batch\n",
    "        idx = torch.argmax(action_values, dim=1).to(torch.int64)\n",
    "        idx = idx.view(x.shape[0], 1, 1).expand(-1, -1, self.num_atoms)\n",
    "\n",
    "        # Adjust the index to: [[0, 1], [1, 0], [2, 1], [3, 1], etc.]\n",
    "        # First number is row (batch) number, second number is the argmax index\n",
    "        \n",
    "        #idx = torch.stack((torch.arange(x.shape[0]), idx), dim=1)\n",
    "        #print(\"DEBUG 5: new idx.shape, idx\", idx.shape, idx)\n",
    "        #print(\"Max index:\", idx.max().item())  # Should be 0 or 1 based on x's shape [128, 2, 50]\n",
    "        #print(\"DEBUG 6: x\", x)\n",
    "        #print(\"DEBUG: 4: action_values.shape, idx.shape, x.shape:\", action_values.shape, (idx.unsqueeze(-1)).shape, x.shape)\n",
    "        # Gather probability histogram for actions with max action values\n",
    "        actorNet_output_argmax = torch.gather(x, dim=1, index=idx).squeeze(1)\n",
    "        #print(\"DEBUG 7: actorNet_output_argmax.shape\", actorNet_output_argmax.shape)\n",
    "\n",
    "        return x, actorNet_output_argmax"
   ]
  },
  {
   "cell_type": "code",
   "execution_count": null,
   "metadata": {},
   "outputs": [],
   "source": []
  }
 ],
 "metadata": {
  "kernelspec": {
   "display_name": "dl_proj",
   "language": "python",
   "name": "python3"
  },
  "language_info": {
   "codemirror_mode": {
    "name": "ipython",
    "version": 3
   },
   "file_extension": ".py",
   "mimetype": "text/x-python",
   "name": "python",
   "nbconvert_exporter": "python",
   "pygments_lexer": "ipython3",
   "version": "3.11.9"
  }
 },
 "nbformat": 4,
 "nbformat_minor": 2
}
