{
 "cells": [
  {
   "cell_type": "code",
   "execution_count": 12,
   "metadata": {},
   "outputs": [
    {
     "name": "stdout",
     "output_type": "stream",
     "text": [
      "torch.Size([1, 2, 1])\n",
      "tensor([], size=(1, 2, 0))\n",
      "tensor([], size=(1, 2, 0))\n",
      "tensor([[0., 0.]])\n"
     ]
    }
   ],
   "source": [
    "import torch\n",
    "\n",
    "tens = torch.tensor([[[3.3757],\n",
    "         [3.4011]]])\n",
    "print(tens.shape)\n",
    "print(tens[:, :, :-1] - tens[:, :, 1:])\n",
    "other_poss = torch.diff(tens, dim=2)\n",
    "print(other_poss)\n",
    "action_values = torch.sum(tens[:, :, :-1], dim=2)\n",
    "\n",
    "print(action_values)"
   ]
  }
 ],
 "metadata": {
  "kernelspec": {
   "display_name": "DRL_proj",
   "language": "python",
   "name": "python3"
  },
  "language_info": {
   "codemirror_mode": {
    "name": "ipython",
    "version": 3
   },
   "file_extension": ".py",
   "mimetype": "text/x-python",
   "name": "python",
   "nbconvert_exporter": "python",
   "pygments_lexer": "ipython3",
   "version": "3.12.3"
  }
 },
 "nbformat": 4,
 "nbformat_minor": 2
}
